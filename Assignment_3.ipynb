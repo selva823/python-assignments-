{
  "nbformat": 4,
  "nbformat_minor": 0,
  "metadata": {
    "colab": {
      "name": "Assignment 3.ipynb",
      "provenance": [],
      "authorship_tag": "ABX9TyPtOrM7WWQ+QboMbMFTkHk8",
      "include_colab_link": true
    },
    "kernelspec": {
      "name": "python3",
      "display_name": "Python 3"
    }
  },
  "cells": [
    {
      "cell_type": "markdown",
      "metadata": {
        "id": "view-in-github",
        "colab_type": "text"
      },
      "source": [
        "<a href=\"https://colab.research.google.com/github/selva823/python-assignments-/blob/main/Assignment_3.ipynb\" target=\"_parent\"><img src=\"https://colab.research.google.com/assets/colab-badge.svg\" alt=\"Open In Colab\"/></a>"
      ]
    },
    {
      "cell_type": "code",
      "metadata": {
        "colab": {
          "base_uri": "https://localhost:8080/"
        },
        "id": "N1Ww-bRMPTzd",
        "outputId": "071abd99-0208-4ce3-ef19-bc80a22dbae7"
      },
      "source": [
        "def max_of_two( x, y ):\r\n",
        "    if x > y:\r\n",
        "        return x\r\n",
        "    return y\r\n",
        "def max_of_three( x, y, z ):\r\n",
        "    return max_of_two( x, max_of_two( y, z ) )\r\n",
        "print(max_of_three(3, 6, -5))"
      ],
      "execution_count": 1,
      "outputs": [
        {
          "output_type": "stream",
          "text": [
            "6\n"
          ],
          "name": "stdout"
        }
      ]
    },
    {
      "cell_type": "code",
      "metadata": {
        "colab": {
          "base_uri": "https://localhost:8080/"
        },
        "id": "hTp_3Ud_PkwO",
        "outputId": "5b75ab6e-1464-4a5a-8544-a7bee9c60534"
      },
      "source": [
        "def isPalindrome(string):\r\n",
        "\tleft_pos = 0\r\n",
        "\tright_pos = len(string) - 1\r\n",
        "\t\r\n",
        "\twhile right_pos >= left_pos:\r\n",
        "\t\tif not string[left_pos] == string[right_pos]:\r\n",
        "\t\t\treturn False\r\n",
        "\t\tleft_pos += 1\r\n",
        "\t\tright_pos -= 1\r\n",
        "\treturn True\r\n",
        "print(isPalindrome('aza'))\r\n"
      ],
      "execution_count": 2,
      "outputs": [
        {
          "output_type": "stream",
          "text": [
            "True\n"
          ],
          "name": "stdout"
        }
      ]
    },
    {
      "cell_type": "code",
      "metadata": {
        "colab": {
          "base_uri": "https://localhost:8080/"
        },
        "id": "buYz3rNUPyTE",
        "outputId": "a5b5c9a7-c835-477b-8915-1a26a6875c06"
      },
      "source": [
        "def string_test(s):\r\n",
        "    d={\"UPPER_CASE\":0, \"LOWER_CASE\":0}\r\n",
        "    for c in s:\r\n",
        "        if c.isupper():\r\n",
        "           d[\"UPPER_CASE\"]+=1\r\n",
        "        elif c.islower():\r\n",
        "           d[\"LOWER_CASE\"]+=1\r\n",
        "        else:\r\n",
        "           pass\r\n",
        "    print (\"Original String : \", s)\r\n",
        "    print (\"No. of Upper case characters : \", d[\"UPPER_CASE\"])\r\n",
        "    print (\"No. of Lower case Characters : \", d[\"LOWER_CASE\"])\r\n",
        "\r\n",
        "string_test('The quick Brown Fox')"
      ],
      "execution_count": 3,
      "outputs": [
        {
          "output_type": "stream",
          "text": [
            "Original String :  The quick Brown Fox\n",
            "No. of Upper case characters :  3\n",
            "No. of Lower case Characters :  13\n"
          ],
          "name": "stdout"
        }
      ]
    },
    {
      "cell_type": "code",
      "metadata": {
        "colab": {
          "base_uri": "https://localhost:8080/"
        },
        "id": "MaLcZgznP1-U",
        "outputId": "8d5c4f1e-3bd4-4511-b817-1181566926fc"
      },
      "source": [
        "def sum(numbers):\r\n",
        "    total = 0\r\n",
        "    for x in numbers:\r\n",
        "        total += x\r\n",
        "    return total\r\n",
        "print(sum((8, 2, 3, 0, 7)))"
      ],
      "execution_count": 4,
      "outputs": [
        {
          "output_type": "stream",
          "text": [
            "20\n"
          ],
          "name": "stdout"
        }
      ]
    },
    {
      "cell_type": "code",
      "metadata": {
        "colab": {
          "base_uri": "https://localhost:8080/"
        },
        "id": "OVZcnKvyQAY6",
        "outputId": "7d09c4b4-61f1-4e25-ef08-e8215b98259f"
      },
      "source": [
        "def multiply(numbers):  \r\n",
        "    total = 1\r\n",
        "    for x in numbers:\r\n",
        "        total *= x  \r\n",
        "    return total  \r\n",
        "print(multiply((8, 2, 3, -1, 7)))"
      ],
      "execution_count": 5,
      "outputs": [
        {
          "output_type": "stream",
          "text": [
            "-336\n"
          ],
          "name": "stdout"
        }
      ]
    },
    {
      "cell_type": "code",
      "metadata": {
        "colab": {
          "base_uri": "https://localhost:8080/"
        },
        "id": "rb8vjN5xQKxg",
        "outputId": "4ad37594-e463-4bd7-f47f-4f7a7c601d48"
      },
      "source": [
        "def unique_list(l):\r\n",
        "  x = []\r\n",
        "  for a in l:\r\n",
        "    if a not in x:\r\n",
        "      x.append(a)\r\n",
        "  return x\r\n",
        "\r\n",
        "print(unique_list([1,2,3,3,3,3,4,5]))"
      ],
      "execution_count": 6,
      "outputs": [
        {
          "output_type": "stream",
          "text": [
            "[1, 2, 3, 4, 5]\n"
          ],
          "name": "stdout"
        }
      ]
    }
  ]
}