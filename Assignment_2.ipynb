{
  "nbformat": 4,
  "nbformat_minor": 0,
  "metadata": {
    "colab": {
      "name": "Assignment 2.ipynb",
      "provenance": [],
      "authorship_tag": "ABX9TyOCi4s7JvBvgr2tvh+S8+KD",
      "include_colab_link": true
    },
    "kernelspec": {
      "name": "python3",
      "display_name": "Python 3"
    }
  },
  "cells": [
    {
      "cell_type": "markdown",
      "metadata": {
        "id": "view-in-github",
        "colab_type": "text"
      },
      "source": [
        "<a href=\"https://colab.research.google.com/github/selva823/python-assignments-/blob/main/Assignment_2.ipynb\" target=\"_parent\"><img src=\"https://colab.research.google.com/assets/colab-badge.svg\" alt=\"Open In Colab\"/></a>"
      ]
    },
    {
      "cell_type": "code",
      "metadata": {
        "colab": {
          "base_uri": "https://localhost:8080/"
        },
        "id": "LJCcPkzuLiRG",
        "outputId": "9b54e410-9eca-420e-8595-241942909907"
      },
      "source": [
        "test_list=[1,5,3,6,3,5,6,1]\r\n",
        "print(\"The original list is:\" + str(test_list))\r\n",
        "test_list=list(set(test_list))\r\n",
        "print(\"the list after removing duplicates\" + str(test_list))"
      ],
      "execution_count": 2,
      "outputs": [
        {
          "output_type": "stream",
          "text": [
            "The original list is:[1, 5, 3, 6, 3, 5, 6, 1]\n",
            "the list after removing duplicates[1, 3, 5, 6]\n"
          ],
          "name": "stdout"
        }
      ]
    },
    {
      "cell_type": "code",
      "metadata": {
        "colab": {
          "base_uri": "https://localhost:8080/"
        },
        "id": "QYOh4StGMEAe",
        "outputId": "1324209a-cbc9-440e-bc49-aa48ac88950c"
      },
      "source": [
        "list1 = [1, 3, 5, 7, 9]\r\n",
        "list2=[1, 2, 4, 6, 7, 8]\r\n",
        "diff_list1_list2 = list(set(list1) - set(list2))\r\n",
        "diff_list2_list1 = list(set(list2) - set(list1))\r\n",
        "total_diff = diff_list1_list2 + diff_list2_list1\r\n",
        "print(total_diff)"
      ],
      "execution_count": 3,
      "outputs": [
        {
          "output_type": "stream",
          "text": [
            "[9, 3, 5, 8, 2, 4, 6]\n"
          ],
          "name": "stdout"
        }
      ]
    },
    {
      "cell_type": "code",
      "metadata": {
        "colab": {
          "base_uri": "https://localhost:8080/"
        },
        "id": "sMKgsSuQNkiy",
        "outputId": "0e2f1d07-83a2-4e24-b1e7-8b53c106c078"
      },
      "source": [
        "from collections import Counter\r\n",
        "color1 = [\"red\", \"orange\", \"green\", \"blue\", \"white\"]\r\n",
        "color2 = [\"black\", \"yellow\", \"green\", \"blue\"]\r\n",
        "counter1 = Counter(color1)\r\n",
        "counter2 = Counter(color2)\r\n",
        "print(\"Color1-Color2: \",list(counter1 - counter2))\r\n",
        "print(\"Color2-Color1: \",list(counter2 - counter1))\r\n"
      ],
      "execution_count": 4,
      "outputs": [
        {
          "output_type": "stream",
          "text": [
            "Color1-Color2:  ['red', 'orange', 'white']\n",
            "Color2-Color1:  ['black', 'yellow']\n"
          ],
          "name": "stdout"
        }
      ]
    }
  ]
}