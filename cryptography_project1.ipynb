{
  "nbformat": 4,
  "nbformat_minor": 0,
  "metadata": {
    "colab": {
      "name": "cryptography project1.ipynb",
      "provenance": [],
      "authorship_tag": "ABX9TyPmoiOvHAv0Tem5xgP7+6CK",
      "include_colab_link": true
    },
    "kernelspec": {
      "name": "python3",
      "display_name": "Python 3"
    }
  },
  "cells": [
    {
      "cell_type": "markdown",
      "metadata": {
        "id": "view-in-github",
        "colab_type": "text"
      },
      "source": [
        "<a href=\"https://colab.research.google.com/github/selva823/python-assignments-/blob/main/cryptography_project1.ipynb\" target=\"_parent\"><img src=\"https://colab.research.google.com/assets/colab-badge.svg\" alt=\"Open In Colab\"/></a>"
      ]
    },
    {
      "cell_type": "code",
      "metadata": {
        "colab": {
          "base_uri": "https://localhost:8080/",
          "height": 316
        },
        "id": "SqeMbSRVVbzT",
        "outputId": "4bc929b5-62e7-49d4-d4c7-89f88bf643ba"
      },
      "source": [
        "\r\n",
        "import onetimepad"
      ],
      "execution_count": 4,
      "outputs": [
        {
          "output_type": "error",
          "ename": "ModuleNotFoundError",
          "evalue": "ignored",
          "traceback": [
            "\u001b[0;31m---------------------------------------------------------------------------\u001b[0m",
            "\u001b[0;31mModuleNotFoundError\u001b[0m                       Traceback (most recent call last)",
            "\u001b[0;32m<ipython-input-4-0423e8acb72a>\u001b[0m in \u001b[0;36m<module>\u001b[0;34m()\u001b[0m\n\u001b[1;32m      1\u001b[0m \u001b[0;34m\u001b[0m\u001b[0m\n\u001b[0;32m----> 2\u001b[0;31m \u001b[0;32mimport\u001b[0m \u001b[0monetimepad\u001b[0m\u001b[0;34m\u001b[0m\u001b[0;34m\u001b[0m\u001b[0m\n\u001b[0m",
            "\u001b[0;31mModuleNotFoundError\u001b[0m: No module named 'onetimepad'",
            "",
            "\u001b[0;31m---------------------------------------------------------------------------\u001b[0;32m\nNOTE: If your import is failing due to a missing package, you can\nmanually install dependencies using either !pip or !apt.\n\nTo view examples of installing some common dependencies, click the\n\"Open Examples\" button below.\n\u001b[0;31m---------------------------------------------------------------------------\u001b[0m\n"
          ]
        }
      ]
    },
    {
      "cell_type": "code",
      "metadata": {
        "id": "-vzTCAfOViBb"
      },
      "source": [
        "#!pip install onetimepad"
      ],
      "execution_count": 6,
      "outputs": []
    },
    {
      "cell_type": "code",
      "metadata": {
        "id": "bRLUlxVMVb-R"
      },
      "source": [
        "from tkinter import *\r\n",
        "#import tkinter\r\n",
        "\r\n",
        "root= Tk()\r\n",
        "root.title(\"Cryptography app\")\r\n",
        "\r\n",
        "def encryptMessage():\r\n",
        "    a=var.get()\r\n",
        "    #Arun\r\n",
        "    ct=onetimepad.encrypt(a,\"Assignments\")\r\n",
        "    print(\"Working\",ct)\r\n",
        "    \r\n",
        "    e2.delete(0,END)\r\n",
        "    e2.insert(END,ct)\r\n",
        "    \r\n",
        "def dycryptMessage():\r\n",
        "    a=var2.get()\r\n",
        "    #Arun\r\n",
        "    ct=onetimepad.decrypt(a,\"Assignments\")\r\n",
        "    print(\"Working\",ct)\r\n",
        "    \r\n",
        "    e4.delete(0,END)\r\n",
        "    e4.insert(END,ct)\r\n",
        "    \r\n",
        "\r\n",
        "l1=Label(root, text=\"Plain Text\")\r\n",
        "l1.grid(row=0, column=0)\r\n",
        "\r\n",
        "l3=Label(root, text=\"Encrypted Text\")\r\n",
        "l3.grid(row=0, column=2)\r\n",
        "\r\n",
        "\r\n",
        "\r\n",
        "\r\n",
        "var=StringVar()\r\n",
        "e1= Entry(root, textvariable=var)\r\n",
        "e1.grid(row=0,column=1)\r\n",
        "\r\n",
        "var2=StringVar()\r\n",
        "e3= Entry(root, textvariable=var2)\r\n",
        "e3.grid(row=0,column=3)\r\n",
        "\r\n",
        "l2=Label(root, text=\"Encrypted Text\")\r\n",
        "l2.grid(row=1, column=0)\r\n",
        "\r\n",
        "l4=Label(root, text=\"Plain Text\")\r\n",
        "l4.grid(row=1, column=2)\r\n",
        "\r\n",
        "e2= Entry(root)\r\n",
        "e2.grid(row=1,column=1)\r\n",
        "\r\n",
        "e4= Entry(root)\r\n",
        "e4.grid(row=1,column=3)\r\n",
        "\r\n",
        "b1= Button(root, text=\"Encryption\", bg=\"turquoise\", fg=\"Red\", command=encryptMessage)\r\n",
        "b1.grid(row=2, column=1)\r\n",
        "\r\n",
        "b2= Button(root, text=\"Dycryption\", bg=\"turquoise\", fg=\"Red\", command=dycryptMessage)\r\n",
        "b2.grid(row=2, column=3)\r\n",
        "\r\n",
        "\r\n",
        "\r\n",
        "root.mainloop()"
      ],
      "execution_count": null,
      "outputs": []
    }
  ]
}