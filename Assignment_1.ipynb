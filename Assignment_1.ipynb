{
  "nbformat": 4,
  "nbformat_minor": 0,
  "metadata": {
    "colab": {
      "name": "Assignment 1.ipynb",
      "provenance": [],
      "authorship_tag": "ABX9TyPjfRJPoiDksy/ql0TKb72G",
      "include_colab_link": true
    },
    "kernelspec": {
      "name": "python3",
      "display_name": "Python 3"
    }
  },
  "cells": [
    {
      "cell_type": "markdown",
      "metadata": {
        "id": "view-in-github",
        "colab_type": "text"
      },
      "source": [
        "<a href=\"https://colab.research.google.com/github/selva823/python-assignments-/blob/main/Assignment_1.ipynb\" target=\"_parent\"><img src=\"https://colab.research.google.com/assets/colab-badge.svg\" alt=\"Open In Colab\"/></a>"
      ]
    },
    {
      "cell_type": "code",
      "metadata": {
        "colab": {
          "base_uri": "https://localhost:8080/"
        },
        "id": "z8MVnU2XIEpB",
        "outputId": "33ed65be-393d-4f74-a29f-1c4e70d006f3"
      },
      "source": [
        "x=int(input(\"Enter the number\"))\r\n",
        "y = (2*x+5/x**2+5*x+6)\r\n",
        "print(y)\r\n",
        "y=(x**2+5*x+6/2*x+5)\r\n",
        "print(y)\r\n",
        "y=(2*x-3)*(x-9)\r\n",
        "print(y)\r\n"
      ],
      "execution_count": 1,
      "outputs": [
        {
          "output_type": "stream",
          "text": [
            "Enter the number5\n",
            "41.2\n",
            "70.0\n",
            "-28\n"
          ],
          "name": "stdout"
        }
      ]
    }
  ]
}