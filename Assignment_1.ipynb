{
  "nbformat": 4,
  "nbformat_minor": 0,
  "metadata": {
    "colab": {
      "name": "Assignment 1.ipynb",
      "provenance": [],
      "collapsed_sections": [],
      "authorship_tag": "ABX9TyO2mQhCjqyuDqcqmkyUylGC",
      "include_colab_link": true
    },
    "kernelspec": {
      "name": "python3",
      "display_name": "Python 3"
    }
  },
  "cells": [
    {
      "cell_type": "markdown",
      "metadata": {
        "id": "view-in-github",
        "colab_type": "text"
      },
      "source": [
        "<a href=\"https://colab.research.google.com/github/selva823/python-assignments-/blob/main/Assignment_1.ipynb\" target=\"_parent\"><img src=\"https://colab.research.google.com/assets/colab-badge.svg\" alt=\"Open In Colab\"/></a>"
      ]
    },
    {
      "cell_type": "code",
      "metadata": {
        "colab": {
          "base_uri": "https://localhost:8080/"
        },
        "id": "z8MVnU2XIEpB",
        "outputId": "1346fd33-6f81-41b1-f2b7-92f916375a3c"
      },
      "source": [
        "x=int(input(\"Enter the number\"))\r\n",
        "y = (2*x+5)/(x**2+5*x+6)\r\n",
        "print(y)\r\n",
        "y=(x**2+5*x+6)/(2*x+5)\r\n",
        "print(y)\r\n",
        "y=(2*x-3)*(x-9)\r\n",
        "print(y)\r\n"
      ],
      "execution_count": 5,
      "outputs": [
        {
          "output_type": "stream",
          "text": [
            "Enter the number5\n",
            "0.26785714285714285\n",
            "3.7333333333333334\n",
            "-28\n"
          ],
          "name": "stdout"
        }
      ]
    },
    {
      "cell_type": "code",
      "metadata": {
        "colab": {
          "base_uri": "https://localhost:8080/"
        },
        "id": "WSpgMw5sLd3b",
        "outputId": "31c619f1-3fa9-49c7-a36d-cf41d4868341"
      },
      "source": [
        "print(\"Enter correct username and password combo to continue\")\r\n",
        "count=0\r\n",
        "password=\"selva\"\r\n",
        "username=\"selva\"\r\n",
        "\r\n",
        "while password!='Hytu76E' and username!='bank_admin' and count<4:\r\n",
        "    username=input(\"Enter username: \") \r\n",
        "    password=input(\"Enter password: \")\r\n",
        "\r\n",
        "    if password=='selva' and username=='selva':\r\n",
        "     print('Access granted')\r\n",
        "\r\n",
        "    else:\r\n",
        "        print('Access denied. Try again.')\r\n",
        "        count-=1\r\n"
      ],
      "execution_count": null,
      "outputs": [
        {
          "output_type": "stream",
          "text": [
            "Enter correct username and password combo to continue\n",
            "Enter username: selva\n",
            "Enter password: selva\n",
            "Access granted\n",
            "Enter username: python\n",
            "Enter password: python\n",
            "Access denied. Try again.\n"
          ],
          "name": "stdout"
        }
      ]
    }
  ]
}